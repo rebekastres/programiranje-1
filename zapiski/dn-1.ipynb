{
 "cells": [
  {
   "cell_type": "markdown",
   "metadata": {},
   "source": [
    "# 1. domača naloga"
   ]
  },
  {
   "cell_type": "markdown",
   "metadata": {},
   "source": [
    "## Ogrevanje"
   ]
  },
  {
   "cell_type": "markdown",
   "metadata": {},
   "source": [
    "### Števke"
   ]
  },
  {
   "cell_type": "markdown",
   "metadata": {},
   "source": [
    "Napišite funkcijo `stevke : int -> int -> int list`, ki sprejme pozitivni celi števili $b$ in $n$ ter vrne seznam števk števila $n$ v bazi $b$. Pri tem tudi za baze, ki so večje od $10$, uporabimo števke od $0$ do $b - 1$."
   ]
  },
  {
   "cell_type": "code",
   "execution_count": null,
   "metadata": {
    "vscode": {
     "languageId": "ocaml"
    }
   },
   "outputs": [],
   "source": [
    "let stevke b n = \n",
    "  let rec seznam_stevk b n sez = match n with\n",
    "    | 0 -> sez\n",
    "    | _ -> seznam_stevk b (n / b) ((n mod b) :: sez)\n",
    "  in seznam_stevk b n []"
   ]
  },
  {
   "cell_type": "code",
   "execution_count": 2,
   "metadata": {
    "vscode": {
     "languageId": "ocaml"
    }
   },
   "outputs": [
    {
     "data": {
      "text/plain": [
       "val primer_ogrevanje_1 : int list = [1; 2; 3; 4; 5]\n"
      ]
     },
     "execution_count": 2,
     "metadata": {},
     "output_type": "execute_result"
    }
   ],
   "source": [
    "let primer_ogrevanje_1 = stevke 10 12345"
   ]
  },
  {
   "cell_type": "code",
   "execution_count": 3,
   "metadata": {
    "vscode": {
     "languageId": "ocaml"
    }
   },
   "outputs": [
    {
     "data": {
      "text/plain": [
       "val primer_ogrevanje_2 : int list = [1; 0; 1; 0; 1; 0]\n"
      ]
     },
     "execution_count": 3,
     "metadata": {},
     "output_type": "execute_result"
    }
   ],
   "source": [
    "let primer_ogrevanje_2 = stevke 2 42"
   ]
  },
  {
   "cell_type": "code",
   "execution_count": 4,
   "metadata": {
    "vscode": {
     "languageId": "ocaml"
    }
   },
   "outputs": [
    {
     "data": {
      "text/plain": [
       "val primer_ogrevanje_3 : int list = [3; 14; 15; 9]\n"
      ]
     },
     "execution_count": 4,
     "metadata": {},
     "output_type": "execute_result"
    }
   ],
   "source": [
    "let primer_ogrevanje_3 = stevke 16 (3 * 16 * 16 * 16 + 14 * 16 * 16 + 15 * 16 + 9)"
   ]
  },
  {
   "cell_type": "markdown",
   "metadata": {},
   "source": [
    "### Začetek seznama"
   ]
  },
  {
   "cell_type": "markdown",
   "metadata": {},
   "source": [
    "Napišite funkcijo `take : int -> 'a list -> 'a list`, ki sprejme naravno število in vrne ustrezno število elementov z začetka danega seznama. Če je podani seznam krajši od zahtevane dolžine, naj funkcija vrne kar celoten seznam."
   ]
  },
  {
   "cell_type": "code",
   "execution_count": null,
   "metadata": {
    "vscode": {
     "languageId": "ocaml"
    }
   },
   "outputs": [],
   "source": [
    "let take n sez =  \n",
    " let rec skrajsaj_sez n sez nov_sez = \n",
    "   if n = 0 then nov_sez else match sez with\n",
    "     | [] -> nov_sez\n",
    "     | h :: t -> skrajsaj_sez ( n - 1) t (h :: nov_sez)\n",
    " in List.rev (skrajsaj_sez n sez []) "
   ]
  },
  {
   "cell_type": "code",
   "execution_count": 6,
   "metadata": {
    "vscode": {
     "languageId": "ocaml"
    }
   },
   "outputs": [
    {
     "data": {
      "text/plain": [
       "val primer_ogrevanje_4 : int list = [1; 2; 3]\n"
      ]
     },
     "execution_count": 6,
     "metadata": {},
     "output_type": "execute_result"
    }
   ],
   "source": [
    "let primer_ogrevanje_4 = take 3 [1; 2; 3; 4; 5]"
   ]
  },
  {
   "cell_type": "code",
   "execution_count": 7,
   "metadata": {
    "vscode": {
     "languageId": "ocaml"
    }
   },
   "outputs": [
    {
     "data": {
      "text/plain": [
       "val primer_ogrevanje_5 : int list = [1; 2; 3; 4; 5]\n"
      ]
     },
     "execution_count": 7,
     "metadata": {},
     "output_type": "execute_result"
    }
   ],
   "source": [
    "let primer_ogrevanje_5 = take 10 [1; 2; 3; 4; 5]"
   ]
  },
  {
   "cell_type": "markdown",
   "metadata": {
    "vscode": {
     "languageId": "ocaml"
    }
   },
   "source": [
    "### Odstranjevanje ujemajočih"
   ]
  },
  {
   "cell_type": "markdown",
   "metadata": {},
   "source": [
    "Napišite funkcijo `drop_while : ('a -> bool) -> 'a list -> 'a list`, ki z začetka seznama odstrani vse elemente, ki zadoščajo danemu predikatu. Ko najde element, ki predikatu ne zadošča, vrne preostanek seznama."
   ]
  },
  {
   "cell_type": "code",
   "execution_count": null,
   "metadata": {
    "vscode": {
     "languageId": "ocaml"
    }
   },
   "outputs": [],
   "source": [
    "let drop_while pred sez = \n",
    "  let rec preveri_pred pred sez = match sez with\n",
    "    | [] -> sez\n",
    "    | h :: t -> if pred h then preveri_pred pred t else sez\n",
    "  in preveri_pred pred sez"
   ]
  },
  {
   "cell_type": "code",
   "execution_count": 9,
   "metadata": {
    "vscode": {
     "languageId": "ocaml"
    }
   },
   "outputs": [
    {
     "data": {
      "text/plain": [
       "val primer_ogrevanje_6 : int list = [5; 9; 2; 6; 5; 3; 5]\n"
      ]
     },
     "execution_count": 9,
     "metadata": {},
     "output_type": "execute_result"
    }
   ],
   "source": [
    "let primer_ogrevanje_6 = drop_while (fun x -> x < 5) [3; 1; 4; 1; 5; 9; 2; 6; 5; 3; 5]"
   ]
  },
  {
   "cell_type": "code",
   "execution_count": 10,
   "metadata": {
    "vscode": {
     "languageId": "ocaml"
    }
   },
   "outputs": [
    {
     "data": {
      "text/plain": [
       "val primer_ogrevanje_7 : int list = [9; 8; 7; 6; 5; 4; 3; 2; 1; 0]\n"
      ]
     },
     "execution_count": 10,
     "metadata": {},
     "output_type": "execute_result"
    }
   ],
   "source": [
    "let primer_ogrevanje_7 = drop_while (fun x -> x < 5) [9; 8; 7; 6; 5; 4; 3; 2; 1; 0]"
   ]
  },
  {
   "cell_type": "markdown",
   "metadata": {},
   "source": [
    "### Funkcija `filter_mapi`"
   ]
  },
  {
   "cell_type": "markdown",
   "metadata": {},
   "source": [
    "Napišite funkcijo `filter_mapi : (int -> 'a -> 'b option) -> 'a list -> 'b list`, ki deluje tako kot `List.filter_map`, le da funkcija poleg elemenov dobi še njihove indekse."
   ]
  },
  {
   "cell_type": "code",
   "execution_count": null,
   "metadata": {
    "vscode": {
     "languageId": "ocaml"
    }
   },
   "outputs": [],
   "source": [
    "let filter_mapi pred sez = \n",
    "  let pred_na_sez = List.mapi pred sez in\n",
    "  List.filter_map (fun x -> x) pred_na_sez "
   ]
  },
  {
   "cell_type": "code",
   "execution_count": 12,
   "metadata": {
    "vscode": {
     "languageId": "ocaml"
    }
   },
   "outputs": [
    {
     "data": {
      "text/plain": [
       "val primer_ogrevanje_8 : int list = [1; 9; 25; 49; 81]\n"
      ]
     },
     "execution_count": 12,
     "metadata": {},
     "output_type": "execute_result"
    }
   ],
   "source": [
    "let primer_ogrevanje_8 =\n",
    "  filter_mapi\n",
    "    (fun i x -> if i mod 2 = 0 then Some (x * x) else None)\n",
    "    [1; 2; 3; 4; 5; 6; 7; 8; 9]"
   ]
  },
  {
   "cell_type": "markdown",
   "metadata": {},
   "source": [
    "## Izomorfizmi množic"
   ]
  },
  {
   "cell_type": "markdown",
   "metadata": {},
   "source": [
    "Na predavanjih smo videli, da funkciji `curry : ('a * 'b -> 'c) -> ('a -> ('b -> 'c))` in `uncurry : ('a -> ('b -> 'c)) -> ('a * 'b -> 'c)` predstavljata izomorfizem množic $C^{A \\times B} \\cong (C^B)^A$, če kartezični produkt predstavimo s produktnim, eksponent pa s funkcijskim tipom.\n",
    "\n",
    "Podobno velja tudi za ostale znane izomorfizme, če disjunktno unijo\n",
    "  $$A + B = \\{ \\mathrm{in}_1(a) \\mid a \\in A \\} \\cup \\{ \\mathrm{in}_2(b) \\mid b \\in B \\}$$\n",
    "predstavimo s tipom `('a, 'b) sum`, definiranim z:"
   ]
  },
  {
   "cell_type": "code",
   "execution_count": 13,
   "metadata": {
    "vscode": {
     "languageId": "ocaml"
    }
   },
   "outputs": [
    {
     "data": {
      "text/plain": [
       "type ('a, 'b) sum = In1 of 'a | In2 of 'b\n"
      ]
     },
     "execution_count": 13,
     "metadata": {},
     "output_type": "execute_result"
    }
   ],
   "source": [
    "type ('a, 'b) sum = In1 of 'a | In2 of 'b\n",
    "(* produkte imamo že definirane, vsote pa si moramo vedno sami definirati *)"
   ]
  },
  {
   "cell_type": "markdown",
   "metadata": {},
   "source": [
    "Napišite pare funkcij `phi1` & `psi1`, …, `phi7` & `psi7`, ki predstavljajo spodnje izomorfizme množic. Tega, da so si funkcije inverzne, ni treba dokazovati."
   ]
  },
  {
   "cell_type": "markdown",
   "metadata": {},
   "source": [
    "### $A \\times B \\cong B \\times A$"
   ]
  },
  {
   "cell_type": "code",
   "execution_count": null,
   "metadata": {
    "vscode": {
     "languageId": "ocaml"
    }
   },
   "outputs": [],
   "source": [
    "let phi1 (a, b) = (b, a)\n",
    "let psi1 (b, a) = (a, b)\n",
    "\n",
    "(*\n",
    "val phi1 : 'a * 'b -> 'b * 'a = <fun>\n",
    "val psi1 : 'a * 'b -> 'b * 'a = <fun>\n",
    "*)"
   ]
  },
  {
   "cell_type": "markdown",
   "metadata": {},
   "source": [
    "### $A + B \\cong B + A$"
   ]
  },
  {
   "cell_type": "code",
   "execution_count": null,
   "metadata": {
    "vscode": {
     "languageId": "ocaml"
    }
   },
   "outputs": [],
   "source": [
    "let phi2 apb = match apb with\n",
    "  | In1 a -> In2 a \n",
    "  | In2 b -> In1 b\n",
    "\n",
    "let psi2 bpa = match bpa with\n",
    "  | In1 b -> In2 b\n",
    "  | In2 a -> In1 a\n",
    "\n",
    "(* \n",
    "val phi2 : ('a, 'b) sum -> ('b, 'a) sum = <fun>\n",
    "val psi2 : ('a, 'b) sum -> ('b, 'a) sum = <fun>  --> to ni čist v redu ??\n",
    "*)"
   ]
  },
  {
   "cell_type": "markdown",
   "metadata": {},
   "source": [
    "### $A \\times (B \\times C) \\cong (A \\times B) \\times C$"
   ]
  },
  {
   "cell_type": "code",
   "execution_count": null,
   "metadata": {
    "vscode": {
     "languageId": "ocaml"
    }
   },
   "outputs": [],
   "source": [
    "let phi3 (a, (b, c)) = ((a, b), c)\n",
    "let psi3 ((a, b), c) = (a, (b, c))\n",
    "\n",
    "(*\n",
    "val phi3 : 'a * ('b * 'c) -> ('a * 'b) * 'c = <fun>\n",
    "val psi3 : ('a * 'b) * 'c -> 'a * ('b * 'c) = <fun>\n",
    "*)"
   ]
  },
  {
   "cell_type": "markdown",
   "metadata": {},
   "source": [
    "### $A + (B + C) \\cong (A + B) + C$"
   ]
  },
  {
   "cell_type": "code",
   "execution_count": null,
   "metadata": {
    "vscode": {
     "languageId": "ocaml"
    }
   },
   "outputs": [],
   "source": [
    "let phi4 apbc = match apbc with\n",
    "  | In1 a -> In1 (In1 a)\n",
    "  | In2 bpc -> match bpc with | In1 b -> In1 (In2 b) | In2 c -> In2 c\n",
    "let psi4 abpc = match abpc with\n",
    "  | In2 c -> In2 (In2 c)\n",
    "  | In1 apb -> match apb with | In1 a -> In1 a | In2 b -> In2 (In1 b)\n",
    "\n",
    "(*\n",
    "val phi4 : ('a, ('b, 'c) sum) sum -> (('a, 'b) sum, 'c) sum = <fun>\n",
    "val psi4 : (('a, 'b) sum, 'c) sum -> ('a, ('b, 'c) sum) sum = <fun>\n",
    "*)"
   ]
  },
  {
   "cell_type": "markdown",
   "metadata": {},
   "source": [
    "### $A \\times (B + C) \\cong (A \\times B) + (A \\times C)$"
   ]
  },
  {
   "cell_type": "code",
   "execution_count": null,
   "metadata": {
    "vscode": {
     "languageId": "ocaml"
    }
   },
   "outputs": [],
   "source": [
    "let phi5 (a, bpc) = match bpc with\n",
    "  | In1 b -> In1 (a, b)\n",
    "  | In2 c -> In2 (a, c)\n",
    "let psi5 abpac = match abpac with\n",
    "  | In1 (a, b) -> (a, In1 b)\n",
    "  | In2 (a, c) -> (a, In2 c)\n",
    "\n",
    "(*\n",
    "val phi5 : 'a * ('b, 'c) sum -> ('a * 'b, 'a * 'c) sum = <fun>\n",
    "val psi5 : ('a * 'b, 'a * 'c) sum -> 'a * ('b, 'c) sum = <fun>\n",
    "*)"
   ]
  },
  {
   "cell_type": "markdown",
   "metadata": {},
   "source": [
    "### $A^{B + C} \\cong A^B \\times A^C$"
   ]
  },
  {
   "cell_type": "code",
   "execution_count": null,
   "metadata": {
    "vscode": {
     "languageId": "ocaml"
    }
   },
   "outputs": [],
   "source": [
    "let phi6 f = (fun b -> f (In1 b), fun c -> f (In2 c))\n",
    "let psi6 (f, g) bpc = match bpc with\n",
    "  | In1 a -> f a\n",
    "  | In2 b -> g b\n",
    "\n",
    "(*\n",
    "val phi6 : (('a, 'b) sum -> 'c) -> 'a -> 'c * ('b -> 'c) = <fun>\n",
    "val psi6 : ('a -> 'b) * ('c -> 'b) -> ('a, 'c) sum -> 'b = <fun>\n",
    "*)\n"
   ]
  },
  {
   "cell_type": "code",
   "execution_count": null,
   "metadata": {
    "vscode": {
     "languageId": "ocaml"
    }
   },
   "outputs": [],
   "source": [
    "let phi6 f = ()\n",
    "\n",
    "(* failwith \"\" je funkcija oblike string -> 'a (type in oblika bosta v redu, a ko pride do tam se bo sesulo) *)\n",
    "\n",
    "let levo_desno f = (fun b -> f (In1 b), fun c -> f (In2 c)) (* phi6 *)\n",
    "\n",
    "let desno_levo (f, g) bpc = match bpc with (* psi6 *)\n",
    "  | In1 a -> f a \n",
    "  | In2 b -> g b\n",
    "\n",
    "\n",
    "(*\n",
    "val levo_desno : (('a, 'b) sum -> 'c) -> 'a -> 'c * ('b -> 'c) = <fun>\n",
    "val desno_levo : ('a -> 'b) * ('c -> 'b) -> ('a, 'c) sum -> 'b = <fun>\n",
    "*)"
   ]
  },
  {
   "cell_type": "markdown",
   "metadata": {},
   "source": [
    "### $(A \\times B)^C \\cong A^C \\times B^C$"
   ]
  },
  {
   "cell_type": "code",
   "execution_count": null,
   "metadata": {
    "vscode": {
     "languageId": "ocaml"
    }
   },
   "outputs": [],
   "source": [
    "let phi7 f = fun (a, b) -> ((fun x -> a), (fun x -> b)) \n",
    "let psi7 (f, g) = fun c -> (f c, g c)\n",
    "\n",
    "(*\n",
    "val phi7 : 'a -> 'b * 'c -> ('d -> 'b) * ('e -> 'c) = <fun>\n",
    "val psi7 : ('a -> 'b) * ('a -> 'c) -> 'a -> 'b * 'c = <fun>\n",
    "*)"
   ]
  },
  {
   "cell_type": "code",
   "execution_count": null,
   "metadata": {
    "vscode": {
     "languageId": "ocaml"
    }
   },
   "outputs": [],
   "source": [
    "let curry f = fun x y -> f (x, y)\n",
    "(* to je funkcija, ki vzame par in vrne uporabo prve funkcije na paru: f:(a, b) |-> c ----> f:(a |-> b) |-> c *)\n",
    "let uncurry g x y = fun (x, y) -> (g x y)\n",
    "(* uncurry vrača funkcijo, ki dela na parih *)\n",
    "\n",
    "(* izomorfizem med Ax(B^C) --curry--> A^(B^C)*)\n",
    "\n"
   ]
  },
  {
   "cell_type": "code",
   "execution_count": null,
   "metadata": {
    "vscode": {
     "languageId": "ocaml"
    }
   },
   "outputs": [],
   "source": [
    "let phi2 apb = match apb with\n",
    "  | In1 a -> In2 a \n",
    "  | In2 b -> In1 b\n",
    "\n",
    "let psi2 bpa = match bpa with\n",
    "  | In1 b -> In2 b\n",
    "  | In2 a -> In1 a\n",
    "\n",
    "(* \n",
    "val phi2 : ('a, 'b) sum -> ('b, 'a) sum = <fun>\n",
    "val psi2 : ('a, 'b) sum -> ('b, 'a) sum = <fun>  --> to ni čist v redu\n",
    "*)"
   ]
  },
  {
   "cell_type": "markdown",
   "metadata": {},
   "source": [
    "## Polinomi"
   ]
  },
  {
   "cell_type": "markdown",
   "metadata": {},
   "source": [
    "Polinome $a_0 + a_1 x + \\cdots + a_n x^n$ predstavimo s seznami celoštevilskih koeficientov od prostega do vodilnega člena. Na primer, polinom $1 - 2 x + 3 x^2$ predstavimo s seznamom `[1; -2; 3]`."
   ]
  },
  {
   "cell_type": "code",
   "execution_count": 21,
   "metadata": {
    "vscode": {
     "languageId": "ocaml"
    }
   },
   "outputs": [
    {
     "data": {
      "text/plain": [
       "type polinom = int list\n"
      ]
     },
     "execution_count": 21,
     "metadata": {},
     "output_type": "execute_result"
    }
   ],
   "source": [
    "type polinom = int list"
   ]
  },
  {
   "cell_type": "markdown",
   "metadata": {},
   "source": [
    "### Odstranjevanje odvečnih ničel"
   ]
  },
  {
   "cell_type": "markdown",
   "metadata": {},
   "source": [
    "Napišite funkcijo `pocisti : polinom -> polinom`, ki s konca seznama koeficientov odstrani odvečne ničle."
   ]
  },
  {
   "cell_type": "code",
   "execution_count": null,
   "metadata": {
    "vscode": {
     "languageId": "ocaml"
    }
   },
   "outputs": [],
   "source": [
    "let rec poisci_zadnji_element polinom el = match polinom with\n",
    "  | [] -> el\n",
    "  | h :: t -> if h != 0 then poisci_zadnji_element t h else poisci_zadnji_element t el\n",
    "\n",
    "let st_ponovitev_zad_el z_el polinom =\n",
    "  let sez_zad_el = List.filter (fun x -> x = z_el) polinom in\n",
    "  List.length sez_zad_el\n",
    "\n",
    "let rec odstrani_nicle2 z_el p nov_p st = match p with\n",
    "  | [] -> List.rev nov_p\n",
    "  | h :: t -> if h = z_el then ( if st = 1 then List.rev (h :: nov_p) else odstrani_nicle2 z_el t (h :: nov_p) (st -1) ) else odstrani_nicle2 z_el t (h :: nov_p) st\n",
    "\n",
    "let pocisti polinom = \n",
    "  let zadnji_element = poisci_zadnji_element polinom 0 in\n",
    "  odstrani_nicle2 zadnji_element polinom [] (st_ponovitev_zad_el zadnji_element polinom)"
   ]
  },
  {
   "cell_type": "code",
   "execution_count": 23,
   "metadata": {
    "vscode": {
     "languageId": "ocaml"
    }
   },
   "outputs": [
    {
     "data": {
      "text/plain": [
       "val primer_polinomi_1 : int list = [1; -2; 3]\n"
      ]
     },
     "execution_count": 23,
     "metadata": {},
     "output_type": "execute_result"
    }
   ],
   "source": [
    "let primer_polinomi_1 = pocisti [1; -2; 3; 0; 0]"
   ]
  },
  {
   "cell_type": "markdown",
   "metadata": {},
   "source": [
    "### Seštevanje"
   ]
  },
  {
   "cell_type": "markdown",
   "metadata": {},
   "source": [
    "Napišite funkcijo `( +++ ) : polinom -> polinom -> polinom`, ki sešteje dva polinoma."
   ]
  },
  {
   "cell_type": "code",
   "execution_count": null,
   "metadata": {
    "vscode": {
     "languageId": "ocaml"
    }
   },
   "outputs": [],
   "source": [
    "let ( +++ ) polinom1 polinom2 = \n",
    "  let rec vsota_polinomov p1 p2 sum_p = match p1, p2 with\n",
    "    | [], [] -> pocisti ( List.rev sum_p )\n",
    "    | [], y :: ys -> vsota_polinomov [] ys ( y :: sum_p )\n",
    "    | x :: xs,[] -> vsota_polinomov xs [] ( x :: sum_p )\n",
    "    | (x :: xs , y :: ys) -> vsota_polinomov xs ys ( (x+y) :: sum_p )\n",
    "  in vsota_polinomov polinom1 polinom2 []"
   ]
  },
  {
   "cell_type": "code",
   "execution_count": 25,
   "metadata": {
    "vscode": {
     "languageId": "ocaml"
    }
   },
   "outputs": [
    {
     "data": {
      "text/plain": [
       "val primer_polinomi_2 : int list = [2; 0; 3]\n"
      ]
     },
     "execution_count": 25,
     "metadata": {},
     "output_type": "execute_result"
    }
   ],
   "source": [
    "let primer_polinomi_2 = [1; -2; 3] +++ [1; 2]"
   ]
  },
  {
   "cell_type": "code",
   "execution_count": 26,
   "metadata": {
    "vscode": {
     "languageId": "ocaml"
    }
   },
   "outputs": [
    {
     "data": {
      "text/plain": [
       "val primer_polinomi_3 : int list = [2]\n"
      ]
     },
     "execution_count": 26,
     "metadata": {},
     "output_type": "execute_result"
    }
   ],
   "source": [
    "let primer_polinomi_3 = [1; -2; 3] +++ [1; 2; -3]"
   ]
  },
  {
   "cell_type": "markdown",
   "metadata": {},
   "source": [
    "### Množenje"
   ]
  },
  {
   "cell_type": "markdown",
   "metadata": {},
   "source": [
    "Napišite funkcijo `( *** ) : polinom -> polinom -> polinom`, ki zmnoži dva polinoma."
   ]
  },
  {
   "cell_type": "code",
   "execution_count": null,
   "metadata": {
    "vscode": {
     "languageId": "ocaml"
    }
   },
   "outputs": [],
   "source": [
    "let rec dodaj_nicle pol st = match st with\n",
    "  | 0 -> pol\n",
    "  | _ -> dodaj_nicle ( 0 :: pol ) ( st - 1 )\n",
    "\n",
    "let pomnozi_polinom el pol st =\n",
    "  let nov_p = List.map (( * ) el) pol\n",
    "  in  dodaj_nicle nov_p st\n",
    "\n",
    "let ( *** ) polinom1 polinom2 = \n",
    "  let rec pomnozi_2_polinoma p1 p2 nov_p st = match p1 with\n",
    "    | [] -> nov_p\n",
    "    | h :: t -> pomnozi_2_polinoma t p2 ( ( pomnozi_polinom h p2 st) +++ nov_p ) (st + 1) \n",
    "  in pomnozi_2_polinoma polinom1 polinom2 [] 0"
   ]
  },
  {
   "cell_type": "code",
   "execution_count": 28,
   "metadata": {
    "vscode": {
     "languageId": "ocaml"
    }
   },
   "outputs": [
    {
     "data": {
      "text/plain": [
       "val primer_polinomi_4 : int list = [1; 3; 3; 1]\n"
      ]
     },
     "execution_count": 28,
     "metadata": {},
     "output_type": "execute_result"
    }
   ],
   "source": [
    "let primer_polinomi_4 = [1; 1] *** [1; 1] *** [1; 1]"
   ]
  },
  {
   "cell_type": "code",
   "execution_count": 29,
   "metadata": {
    "vscode": {
     "languageId": "ocaml"
    }
   },
   "outputs": [
    {
     "data": {
      "text/plain": [
       "val primer_polinomi_5 : int list = [1; 0; -1]\n"
      ]
     },
     "execution_count": 29,
     "metadata": {},
     "output_type": "execute_result"
    }
   ],
   "source": [
    "let primer_polinomi_5 = [1; 1] *** [1; -1]"
   ]
  },
  {
   "cell_type": "markdown",
   "metadata": {},
   "source": [
    "### Izračun vrednosti v točki"
   ]
  },
  {
   "cell_type": "markdown",
   "metadata": {},
   "source": [
    "Napišite funkcijo `vrednost : polinom -> int -> int`, ki izračuna vrednost polinoma v danem argumentu."
   ]
  },
  {
   "cell_type": "code",
   "execution_count": null,
   "metadata": {
    "vscode": {
     "languageId": "ocaml"
    }
   },
   "outputs": [],
   "source": [
    "let vrednost polinom tocka_x = \n",
    "  let potenca x y = Int.of_float ((Int.to_float x) ** (Int.to_float y)) in\n",
    "  let rec izracun_vrednosti pol t_x pot vr = match pol with\n",
    "    | [] -> vr\n",
    "    | h :: t -> izracun_vrednosti t t_x (pot + 1) (vr + h * (potenca t_x pot))\n",
    "  in izracun_vrednosti polinom tocka_x 0 0 "
   ]
  },
  {
   "cell_type": "code",
   "execution_count": 31,
   "metadata": {
    "vscode": {
     "languageId": "ocaml"
    }
   },
   "outputs": [
    {
     "data": {
      "text/plain": [
       "val primer_polinomi_6 : int = 9\n"
      ]
     },
     "execution_count": 31,
     "metadata": {},
     "output_type": "execute_result"
    }
   ],
   "source": [
    "let primer_polinomi_6 = vrednost [1; -2; 3] 2"
   ]
  },
  {
   "cell_type": "markdown",
   "metadata": {},
   "source": [
    "### Odvajanje"
   ]
  },
  {
   "cell_type": "markdown",
   "metadata": {},
   "source": [
    "Napišite funkcijo `odvod : polinom -> polinom`, ki izračuna odvod polinoma."
   ]
  },
  {
   "cell_type": "code",
   "execution_count": null,
   "metadata": {
    "vscode": {
     "languageId": "ocaml"
    }
   },
   "outputs": [],
   "source": [
    "let odvod polinom = \n",
    "  let rec odvajaj_polinom pol nov_pol pot = match pol with\n",
    "    | [] -> List.rev nov_pol\n",
    "    | h :: t -> if pot = 0 then odvajaj_polinom t nov_pol (pot + 1) else odvajaj_polinom t ( (h * pot) :: nov_pol ) (pot + 1)\n",
    "  in odvajaj_polinom polinom [] 0"
   ]
  },
  {
   "cell_type": "code",
   "execution_count": 33,
   "metadata": {
    "vscode": {
     "languageId": "ocaml"
    }
   },
   "outputs": [
    {
     "data": {
      "text/plain": [
       "val primer_polinomi_7 : int list = [-2; 6]\n"
      ]
     },
     "execution_count": 33,
     "metadata": {},
     "output_type": "execute_result"
    }
   ],
   "source": [
    "let primer_polinomi_7 = odvod [1; -2; 3]"
   ]
  },
  {
   "cell_type": "markdown",
   "metadata": {},
   "source": [
    "### Lep izpis"
   ]
  },
  {
   "cell_type": "markdown",
   "metadata": {},
   "source": [
    "Napišite funkcijo `izpis : polinom -> string`, ki polinom lepo izpiše. Na primer, `izpis [1; -2; 3]` vrne `\"3 x^2 - 2 x + 1\"` oziroma še bolje kot `\"3 x² - 2 x + 1\"`. Pozorni bodite, da izpis začnete z vodilnim členom."
   ]
  },
  {
   "cell_type": "code",
   "execution_count": null,
   "metadata": {
    "vscode": {
     "languageId": "ocaml"
    }
   },
   "outputs": [],
   "source": [
    "let izpis_clena vod_clen pot = match vod_clen with\n",
    "  | 0 -> \"\"\n",
    "  | 1 -> if pot = 0 then \"1\" else \"x\" ^ (if pot = 1 then \"\" else \"^\" ^ Int.to_string pot)\n",
    "  | -1 -> if pot = 0 then \"1\" else \"x\" ^ (if pot = 1 then \"\" else \"^\" ^ Int.to_string pot)\n",
    "  | _ -> Int.to_string (Int.abs vod_clen) ^ \" x\" ^ (if pot = 1 then \"\" else \"^\" ^ Int.to_string pot)\n",
    "\n",
    "let dodaj_predznak vodilni_clen potenca st_polinoma = match potenca with\n",
    "  | 0 -> if vodilni_clen = 0 then \"\" else \" + \"\n",
    "  | _ -> if vodilni_clen < 0 then \" - \" else (if vodilni_clen = 0 then \"\" else (if potenca = st_polinoma then \"\" else \" + \") )\n",
    "\n",
    "let izpis polinom_sez =\n",
    "  let stopnja_polinoma = List.length polinom_sez - 1 in\n",
    "  let rec seznam_v_string sez besedilo pot = match sez with\n",
    "    | [] -> besedilo\n",
    "    | h :: t -> seznam_v_string t ((dodaj_predznak h pot stopnja_polinoma) ^ (izpis_clena h pot) ^ besedilo) (pot + 1)\n",
    "  in seznam_v_string polinom_sez \"\" 0"
   ]
  },
  {
   "cell_type": "code",
   "execution_count": 35,
   "metadata": {
    "vscode": {
     "languageId": "ocaml"
    }
   },
   "outputs": [
    {
     "data": {
      "text/plain": [
       "val primer_polinomi_8 : string = \"x² + 2 x + 1\"\n"
      ]
     },
     "execution_count": 35,
     "metadata": {},
     "output_type": "execute_result"
    }
   ],
   "source": [
    "let primer_polinomi_8 = izpis [1; 2; 1]"
   ]
  },
  {
   "cell_type": "code",
   "execution_count": 36,
   "metadata": {
    "vscode": {
     "languageId": "ocaml"
    }
   },
   "outputs": [
    {
     "data": {
      "text/plain": [
       "val primer_polinomi_9 : string =\n",
       "  \"x¹² - x¹⁰ + x⁸ - x⁶ + x⁴ - x² + 1\"\n"
      ]
     },
     "execution_count": 36,
     "metadata": {},
     "output_type": "execute_result"
    }
   ],
   "source": [
    "let primer_polinomi_9 = izpis [1; 0; -1; 0; 1; 0; -1; 0; 1; 0; -1; 0; 1]"
   ]
  },
  {
   "cell_type": "code",
   "execution_count": 37,
   "metadata": {
    "vscode": {
     "languageId": "ocaml"
    }
   },
   "outputs": [
    {
     "data": {
      "text/plain": [
       "val primer_polinomi_10 : string = \"-x³ + 3 x² - 3 x\"\n"
      ]
     },
     "execution_count": 37,
     "metadata": {},
     "output_type": "execute_result"
    }
   ],
   "source": [
    "let primer_polinomi_10 = izpis [0; -3; 3; -1]"
   ]
  },
  {
   "cell_type": "markdown",
   "metadata": {},
   "source": [
    "## Samodejno odvajanje"
   ]
  },
  {
   "cell_type": "markdown",
   "metadata": {},
   "source": [
    "Ob razmahu strojnega učenja, ki optimalno rešitev išče s pomočjo gradientnega spusta, si želimo čim bolj enostavno računati odvode. Odvod funkcije $f$ v točki $x_0$ lahko seveda ocenimo tako, da v\n",
    "\n",
    "$$\\frac{f (x_0 + h) - f(x_0)}{h}$$\n",
    "\n",
    "vstavimo dovolj majhno število $h$."
   ]
  },
  {
   "cell_type": "code",
   "execution_count": 38,
   "metadata": {
    "vscode": {
     "languageId": "ocaml"
    }
   },
   "outputs": [
    {
     "data": {
      "text/plain": [
       "val priblizek_odvoda : (float -> float) -> float -> float -> float = <fun>\n"
      ]
     },
     "execution_count": 38,
     "metadata": {},
     "output_type": "execute_result"
    }
   ],
   "source": [
    "let priblizek_odvoda f x0 h =\n",
    "  (f (x0 +. h) -. f x0) /. h"
   ]
  },
  {
   "cell_type": "code",
   "execution_count": 39,
   "metadata": {
    "vscode": {
     "languageId": "ocaml"
    }
   },
   "outputs": [
    {
     "data": {
      "text/plain": [
       "val primer_odvajanje_1 : float list =\n",
       "  [2.48914386298364931; 2.42384618742050861; 2.41778190719976749;\n",
       "   2.41717997997881184; 2.41711983210990411]\n"
      ]
     },
     "execution_count": 39,
     "metadata": {},
     "output_type": "execute_result"
    }
   ],
   "source": [
    "let primer_odvajanje_1 =\n",
    "  let f x = sin x +. cos x +. exp x in\n",
    "  List.map (priblizek_odvoda f 1.) [0.1; 0.01; 0.001; 0.0001; 0.00001]"
   ]
  },
  {
   "cell_type": "markdown",
   "metadata": {
    "vscode": {
     "languageId": "ocaml"
    }
   },
   "source": [
    "Pri samodejnem odvajanju izkoristimo to, da poznamo odvode elementarnih funkcij, odvode sestavljenih funkcij pa lahko izračunamo iz posameznih odvodov. Tako bomo vsako funkcijo predstavili s parom: prvotno funkcijo in njenim odvodom."
   ]
  },
  {
   "cell_type": "code",
   "execution_count": 40,
   "metadata": {
    "vscode": {
     "languageId": "ocaml"
    }
   },
   "outputs": [
    {
     "data": {
      "text/plain": [
       "type odvedljiva = (float -> float) * (float -> float)\n"
      ]
     },
     "execution_count": 40,
     "metadata": {},
     "output_type": "execute_result"
    }
   ],
   "source": [
    "type odvedljiva = (float -> float) * (float -> float)"
   ]
  },
  {
   "cell_type": "code",
   "execution_count": 41,
   "metadata": {
    "vscode": {
     "languageId": "ocaml"
    }
   },
   "outputs": [
    {
     "data": {
      "text/plain": [
       "val sinus : odvedljiva = (<fun>, <fun>)\n"
      ]
     },
     "execution_count": 41,
     "metadata": {},
     "output_type": "execute_result"
    },
    {
     "data": {
      "text/plain": [
       "val kosinus : odvedljiva = (<fun>, <fun>)\n"
      ]
     },
     "execution_count": 41,
     "metadata": {},
     "output_type": "execute_result"
    },
    {
     "data": {
      "text/plain": [
       "val eksp : odvedljiva = (<fun>, <fun>)\n"
      ]
     },
     "execution_count": 41,
     "metadata": {},
     "output_type": "execute_result"
    },
    {
     "data": {
      "text/plain": [
       "val ( ++. ) : odvedljiva -> odvedljiva -> odvedljiva = <fun>\n"
      ]
     },
     "execution_count": 41,
     "metadata": {},
     "output_type": "execute_result"
    }
   ],
   "source": [
    "let sinus : odvedljiva = (sin, cos)\n",
    "let kosinus : odvedljiva = (cos, (fun x -> -. sin x))\n",
    "let eksp : odvedljiva = (exp, exp)\n",
    "let ( ++. ) : odvedljiva -> odvedljiva -> odvedljiva =\n",
    "  (* pozorni bodite, da anonimni funkciji v paru date med oklepaje *)\n",
    "  fun (f, f') (g, g') -> ((fun x -> f x +. g x), (fun x -> f' x +. g' x))"
   ]
  },
  {
   "cell_type": "code",
   "execution_count": 42,
   "metadata": {
    "vscode": {
     "languageId": "ocaml"
    }
   },
   "outputs": [
    {
     "data": {
      "text/plain": [
       "val primer_odvajanje_2 : float = 2.41711314951928813\n"
      ]
     },
     "execution_count": 42,
     "metadata": {},
     "output_type": "execute_result"
    }
   ],
   "source": [
    "let primer_odvajanje_2 =\n",
    "  let (_, f') = sinus ++. kosinus ++. eksp in\n",
    "  f' 1."
   ]
  },
  {
   "cell_type": "markdown",
   "metadata": {},
   "source": [
    "### Vrednost odvoda"
   ]
  },
  {
   "cell_type": "markdown",
   "metadata": {},
   "source": [
    "Napišite funkciji `vrednost : odvedljiva -> float -> float` in `odvod : odvedljiva -> float -> float`, ki izračunata vrednost funkcije in njenega odvoda v danem argumentu."
   ]
  },
  {
   "cell_type": "code",
   "execution_count": null,
   "metadata": {
    "vscode": {
     "languageId": "ocaml"
    }
   },
   "outputs": [],
   "source": [
    "let vrednost funkcija tocka_x = \n",
    "  let (f, _) = funkcija in\n",
    "  f tocka_x\n",
    "\n",
    "let odvod funkcija tocka_x = \n",
    "  let (_, f') = funkcija in \n",
    "  f' tocka_x"
   ]
  },
  {
   "cell_type": "code",
   "execution_count": null,
   "metadata": {
    "vscode": {
     "languageId": "ocaml"
    }
   },
   "outputs": [],
   "source": [
    "let vrednost : odvedljiva -> float -> float =\n",
    "  fun (f, f')  -> (fun x -> f x)\n",
    "\n",
    "let odvod : odvedljiva -> float -> float =\n",
    "  fun (f, f') -> (fun x -> f' x)"
   ]
  },
  {
   "cell_type": "markdown",
   "metadata": {},
   "source": [
    "### Osnovne funkcije"
   ]
  },
  {
   "cell_type": "markdown",
   "metadata": {},
   "source": [
    "Napišite funkciji `konstanta : float -> odvedljiva` in `identiteta : odvedljiva`, ki predstavljata konstantno in identično funkcijo."
   ]
  },
  {
   "cell_type": "code",
   "execution_count": null,
   "metadata": {
    "vscode": {
     "languageId": "ocaml"
    }
   },
   "outputs": [],
   "source": [
    "let konstanta : float -> odvedljiva =\n",
    "  fun x -> ((fun x -> x), (fun x' -> 0.))\n",
    "\n",
    "let identiteta : odvedljiva = ((fun x -> x), (fun x -> 1.))"
   ]
  },
  {
   "cell_type": "markdown",
   "metadata": {},
   "source": [
    "### Produkt in kvocient"
   ]
  },
  {
   "cell_type": "markdown",
   "metadata": {},
   "source": [
    "Napišite funkciji `( **. ) : odvedljiva -> odvedljiva -> odvedljiva` in `( //. ) : odvedljiva -> odvedljiva -> odvedljiva`, ki predstavljata produkt in kvocient dveh odvedljivih funkcij."
   ]
  },
  {
   "cell_type": "code",
   "execution_count": null,
   "metadata": {
    "vscode": {
     "languageId": "ocaml"
    }
   },
   "outputs": [],
   "source": [
    "let ( **. ) : odvedljiva -> odvedljiva -> odvedljiva = \n",
    "  fun (f, f') (g, g') -> ( (fun x -> f x *. g x), (fun x -> (f' x *. g x) +. (f x *. g' x)) )\n",
    "\n",
    "let ( //. ) : odvedljiva -> odvedljiva -> odvedljiva = \n",
    "  fun (f, f') (g, g') -> ( (fun x -> f x /. g x), (fun x -> (f' x *. g x +. f x *. g' x ) /. sqrt (g' x)) )"
   ]
  },
  {
   "cell_type": "code",
   "execution_count": 46,
   "metadata": {
    "vscode": {
     "languageId": "ocaml"
    }
   },
   "outputs": [
    {
     "data": {
      "text/plain": [
       "val kvadrat : odvedljiva = (<fun>, <fun>)\n"
      ]
     },
     "execution_count": 46,
     "metadata": {},
     "output_type": "execute_result"
    }
   ],
   "source": [
    "let kvadrat = identiteta **. identiteta"
   ]
  },
  {
   "cell_type": "markdown",
   "metadata": {},
   "source": [
    "### Kompozitum"
   ]
  },
  {
   "cell_type": "markdown",
   "metadata": {
    "vscode": {
     "languageId": "ocaml"
    }
   },
   "source": [
    "Napišite funkcijo `( @@. ) : odvedljiva -> odvedljiva -> odvedljiva`, ki predstavlja kompozitum dveh odvedljivih funkcij."
   ]
  },
  {
   "cell_type": "code",
   "execution_count": null,
   "metadata": {
    "vscode": {
     "languageId": "ocaml"
    }
   },
   "outputs": [],
   "source": [
    "let ( @@. ) : odvedljiva -> odvedljiva -> odvedljiva = \n",
    "  fun (f, f') (g, g') -> ( (fun x -> f (g x)), (fun x -> f' (g x) *. g' x) )"
   ]
  },
  {
   "cell_type": "code",
   "execution_count": 48,
   "metadata": {
    "vscode": {
     "languageId": "ocaml"
    }
   },
   "outputs": [
    {
     "data": {
      "text/plain": [
       "val vedno_ena : odvedljiva = (<fun>, <fun>)\n"
      ]
     },
     "execution_count": 48,
     "metadata": {},
     "output_type": "execute_result"
    }
   ],
   "source": [
    "let vedno_ena = (kvadrat @@. sinus) ++. (kvadrat @@. kosinus)"
   ]
  },
  {
   "cell_type": "code",
   "execution_count": 49,
   "metadata": {
    "vscode": {
     "languageId": "ocaml"
    }
   },
   "outputs": [
    {
     "data": {
      "text/plain": [
       "val primer_odvajanje_3 : float = 0.999999999999999889\n"
      ]
     },
     "execution_count": 49,
     "metadata": {},
     "output_type": "execute_result"
    }
   ],
   "source": [
    "let primer_odvajanje_3 = vrednost vedno_ena 12345."
   ]
  },
  {
   "cell_type": "code",
   "execution_count": 50,
   "metadata": {
    "vscode": {
     "languageId": "ocaml"
    }
   },
   "outputs": [
    {
     "data": {
      "text/plain": [
       "val primer_odvajanje_4 : float = 0.\n"
      ]
     },
     "execution_count": 50,
     "metadata": {},
     "output_type": "execute_result"
    }
   ],
   "source": [
    "let primer_odvajanje_4 = odvod vedno_ena 12345."
   ]
  },
  {
   "cell_type": "markdown",
   "metadata": {},
   "source": [
    "## Substitucijska šifra"
   ]
  },
  {
   "cell_type": "markdown",
   "metadata": {},
   "source": [
    "Substitucijska šifra je preprosta šifra, pri kateri črke abecede med seboj permutiramo. Na primer, če bi (angleško) abecedo permutirali kot\n",
    "\n",
    "```\n",
    "A B C D E F G H I J K L M N O P Q R S T U V W X Y Z\n",
    "T H E Q U I C K B R W N F X J M P S O V L A Z Y D G\n",
    "```\n",
    "\n",
    "bi besedo `HELLO` šifrirali kot `KUNNJ`. Ključe, s katerimi šifriramo besedila bomo predstavili kar z nizi črk, v katere se slikajo črke abecede."
   ]
  },
  {
   "cell_type": "code",
   "execution_count": 51,
   "metadata": {
    "vscode": {
     "languageId": "ocaml"
    }
   },
   "outputs": [
    {
     "data": {
      "text/plain": [
       "val quick_brown_fox : string = \"THEQUICKBRWNFXJMPSOVLAZYDG\"\n"
      ]
     },
     "execution_count": 51,
     "metadata": {},
     "output_type": "execute_result"
    },
    {
     "data": {
      "text/plain": [
       "val rot13 : string = \"NOPQRSTUVWXYZABCDEFGHIJKLM\"\n"
      ]
     },
     "execution_count": 51,
     "metadata": {},
     "output_type": "execute_result"
    }
   ],
   "source": [
    "let quick_brown_fox = \"THEQUICKBRWNFXJMPSOVLAZYDG\"\n",
    "let rot13 = \"NOPQRSTUVWXYZABCDEFGHIJKLM\""
   ]
  },
  {
   "cell_type": "markdown",
   "metadata": {},
   "source": [
    "Včasih bomo v primerih uporabljali tudi krajše ključe, a vedno lahko predpostavite, da bodo ključi permutacije začetnega dela abecede. Prav tako si pri delu lahko pomagate s funkcijama `indeks` in `crka`:"
   ]
  },
  {
   "cell_type": "code",
   "execution_count": 52,
   "metadata": {
    "vscode": {
     "languageId": "ocaml"
    }
   },
   "outputs": [
    {
     "data": {
      "text/plain": [
       "val indeks : char -> int = <fun>\n"
      ]
     },
     "execution_count": 52,
     "metadata": {},
     "output_type": "execute_result"
    },
    {
     "data": {
      "text/plain": [
       "val crka : int -> char = <fun>\n"
      ]
     },
     "execution_count": 52,
     "metadata": {},
     "output_type": "execute_result"
    }
   ],
   "source": [
    "let indeks c = Char.code c - Char.code 'A'\n",
    "let crka i = Char.chr (i + Char.code 'A') "
   ]
  },
  {
   "cell_type": "markdown",
   "metadata": {},
   "source": [
    "### Šifriranje"
   ]
  },
  {
   "cell_type": "markdown",
   "metadata": {},
   "source": [
    "Napišite funkcijo `sifriraj : string -> string -> string`, ki besedilo šifrira z danim ključem. Vse znake, ki niso velike tiskane črke, pustimo pri miru."
   ]
  },
  {
   "cell_type": "code",
   "execution_count": null,
   "metadata": {
    "vscode": {
     "languageId": "ocaml"
    }
   },
   "outputs": [],
   "source": [
    "let sifriraj kljuc besedilo = \n",
    "  let sifriraj_crko znak = \n",
    "    let pozicija = indeks znak in\n",
    "    if String.contains \"ABCDEFGHIJKLMNOPQRSTUVWXYZ\" znak then  (if String.get kljuc pozicija != '_' then String.get kljuc pozicija else '_') else znak\n",
    "  in String.map sifriraj_crko besedilo"
   ]
  },
  {
   "cell_type": "code",
   "execution_count": 54,
   "metadata": {
    "vscode": {
     "languageId": "ocaml"
    }
   },
   "outputs": [
    {
     "data": {
      "text/plain": [
       "val primer_sifriranje_1 : string = \"KUNNJ, ZJSNQ!\"\n"
      ]
     },
     "execution_count": 54,
     "metadata": {},
     "output_type": "execute_result"
    }
   ],
   "source": [
    "let primer_sifriranje_1 = sifriraj quick_brown_fox \"HELLO, WORLD!\""
   ]
  },
  {
   "cell_type": "code",
   "execution_count": 55,
   "metadata": {
    "vscode": {
     "languageId": "ocaml"
    }
   },
   "outputs": [
    {
     "data": {
      "text/plain": [
       "val primer_sifriranje_2 : string = \"IRAV, IVQV, IVPV\"\n"
      ]
     },
     "execution_count": 55,
     "metadata": {},
     "output_type": "execute_result"
    }
   ],
   "source": [
    "let primer_sifriranje_2 = \"VENI, VIDI, VICI\" |> sifriraj rot13"
   ]
  },
  {
   "cell_type": "code",
   "execution_count": 56,
   "metadata": {
    "vscode": {
     "languageId": "ocaml"
    }
   },
   "outputs": [
    {
     "data": {
      "text/plain": [
       "val primer_sifriranje_3 : string = \"VENI, VIDI, VICI\"\n"
      ]
     },
     "execution_count": 56,
     "metadata": {},
     "output_type": "execute_result"
    }
   ],
   "source": [
    "let primer_sifriranje_3 = \"VENI, VIDI, VICI\" |> sifriraj rot13 |> sifriraj rot13"
   ]
  },
  {
   "cell_type": "markdown",
   "metadata": {},
   "source": [
    "### Inverzni ključ"
   ]
  },
  {
   "cell_type": "markdown",
   "metadata": {},
   "source": [
    "Napišite funkcijo `inverz : string -> string`, ki iz ključa izračuna njegov inverz."
   ]
  },
  {
   "cell_type": "code",
   "execution_count": null,
   "metadata": {
    "vscode": {
     "languageId": "ocaml"
    }
   },
   "outputs": [],
   "source": [
    "let razvrsti_po_abecedi besedilo =\n",
    "  let dol = String.length besedilo in\n",
    "  let a = Array.init dol (fun i -> besedilo.[i]) in\n",
    "  Array.sort Char.compare a;\n",
    "  String.init dol (fun i -> a.(i))\n",
    "\n",
    "let inverz kljuc = \n",
    "  let abeceda = razvrsti_po_abecedi kljuc in\n",
    "  let inverz_crke znak = \n",
    "    let pozicija = String.index kljuc znak in\n",
    "    String.get abeceda pozicija\n",
    "  in String.map inverz_crke abeceda"
   ]
  },
  {
   "cell_type": "code",
   "execution_count": 58,
   "metadata": {
    "vscode": {
     "languageId": "ocaml"
    }
   },
   "outputs": [
    {
     "data": {
      "text/plain": [
       "val primer_sifriranje_4 : string = \"VIGYCMZBFOHUPLSQDJRAETKNXW\"\n"
      ]
     },
     "execution_count": 58,
     "metadata": {},
     "output_type": "execute_result"
    }
   ],
   "source": [
    "let primer_sifriranje_4 = inverz quick_brown_fox"
   ]
  },
  {
   "cell_type": "code",
   "execution_count": 59,
   "metadata": {
    "vscode": {
     "languageId": "ocaml"
    }
   },
   "outputs": [
    {
     "data": {
      "text/plain": [
       "val primer_sifriranje_5 : string = \"NOPQRSTUVWXYZABCDEFGHIJKLM\"\n"
      ]
     },
     "execution_count": 59,
     "metadata": {},
     "output_type": "execute_result"
    }
   ],
   "source": [
    "let primer_sifriranje_5 = inverz rot13"
   ]
  },
  {
   "cell_type": "code",
   "execution_count": 60,
   "metadata": {
    "vscode": {
     "languageId": "ocaml"
    }
   },
   "outputs": [
    {
     "data": {
      "text/plain": [
       "val primer_sifriranje_6 : string = \"EABCD\"\n"
      ]
     },
     "execution_count": 60,
     "metadata": {},
     "output_type": "execute_result"
    }
   ],
   "source": [
    "let primer_sifriranje_6 = inverz \"BCDEA\""
   ]
  },
  {
   "cell_type": "markdown",
   "metadata": {},
   "source": [
    "### Ugibanje ključa"
   ]
  },
  {
   "cell_type": "markdown",
   "metadata": {
    "vscode": {
     "languageId": "ocaml"
    }
   },
   "source": [
    "Včasih seveda ne poznamo ključa, a vemo, da je besedilo v angleščini. Tako lahko ključ poskusimo uganiti tako, da šifrirane besede paroma primerjamo z besedami iz slovarja, ki smo si ga sposodili [s spleta](https://gist.github.com/deekayen/4148741)."
   ]
  },
  {
   "cell_type": "code",
   "execution_count": 61,
   "metadata": {
    "vscode": {
     "languageId": "ocaml"
    }
   },
   "outputs": [
    {
     "data": {
      "text/plain": [
       "val besede : string =\n",
       "  \"the of to and a in is it you that he was for on are with as i his they be at one have this from or had by word but what some we can out other were all there when up use your how said an each she which do their time if will way about many then them write would like so these her long make thing see h\"... (* string length 5837; truncated *)\n"
      ]
     },
     "execution_count": 61,
     "metadata": {},
     "output_type": "execute_result"
    }
   ],
   "source": [
    "let besede = \"the of to and a in is it you that he was for on are with as i his they be at one have this from or had by word but what some we can out other were all there when up use your how said an each she which do their time if will way about many then them write would like so these her long make thing see him two has look more day could go come did number sound no most people my over know water than call first who may down side been now find any new work part take get place made live where after back little only round man year came show every good me give our under name very through just form sentence great think say help low line differ turn cause much mean before move right boy old too same tell does set three want air well also play small end put home read hand port large spell add even land here must big high such follow act why ask men change went light kind off need house picture try us again animal point mother world near build self earth father head stand own page should country found answer school grow study still learn plant cover food sun four between state keep eye never last let thought city tree cross farm hard start might story saw far sea draw left late run don't while press close night real life few north open seem together next white children begin got walk example ease paper group always music those both mark often letter until mile river car feet care second book carry took science eat room friend began idea fish mountain stop once base hear horse cut sure watch color face wood main enough plain girl usual young ready above ever red list though feel talk bird soon body dog family direct pose leave song measure door product black short numeral class wind question happen complete ship area half rock order fire south problem piece told knew pass since top whole king space heard best hour better true . during hundred five remember step early hold west ground interest reach fast verb sing listen six table travel less morning ten simple several vowel toward war lay against pattern slow center love person money serve appear road map rain rule govern pull cold notice voice unit power town fine certain fly fall lead cry dark machine note wait plan figure star box noun field rest correct able pound done beauty drive stood contain front teach week final gave green oh quick develop ocean warm free minute strong special mind behind clear tail produce fact street inch multiply nothing course stay wheel full force blue object decide surface deep moon island foot system busy test record boat common gold possible plane stead dry wonder laugh thousand ago ran check game shape equate hot miss brought heat snow tire bring yes distant fill east paint language among grand ball yet wave drop heart am present heavy dance engine position arm wide sail material size vary settle speak weight general ice matter circle pair include divide syllable felt perhaps pick sudden count square reason length represent art subject region energy hunt probable bed brother egg ride cell believe fraction forest sit race window store summer train sleep prove lone leg exercise wall catch mount wish sky board joy winter sat written wild instrument kept glass grass cow job edge sign visit past soft fun bright gas weather month million bear finish happy hope flower clothe strange gone jump baby eight village meet root buy raise solve metal whether push seven paragraph third shall held hair describe cook floor either result burn hill safe cat century consider type law bit coast copy phrase silent tall sand soil roll temperature finger industry value fight lie beat excite natural view sense ear else quite broke case middle kill son lake moment scale loud spring observe child straight consonant nation dictionary milk speed method organ pay age section dress cloud surprise quiet stone tiny climb cool design poor lot experiment bottom key iron single stick flat twenty skin smile crease hole trade melody trip office receive row mouth exact symbol die least trouble shout except wrote seed tone join suggest clean break lady yard rise bad blow oil blood touch grew cent mix team wire cost lost brown wear garden equal sent choose fell fit flow fair bank collect save control decimal gentle woman captain practice separate difficult doctor please protect noon whose locate ring character insect caught period indicate radio spoke atom human history effect electric expect crop modern element hit student corner party supply bone rail imagine provide agree thus capital won't chair danger fruit rich thick soldier process operate guess necessary sharp wing create neighbor wash bat rather crowd corn compare poem string bell depend meat rub tube famous dollar stream fear sight thin triangle planet hurry chief colony clock mine tie enter major fresh search send yellow gun allow print dead spot desert suit current lift rose continue block chart hat sell success company subtract event particular deal swim term opposite wife shoe shoulder spread arrange camp invent cotton born determine quart nine truck noise level chance gather shop stretch throw shine property column molecule select wrong gray repeat require broad prepare salt nose plural anger claim continent oxygen sugar death pretty skill women season solution magnet silver thank branch match suffix especially fig afraid huge sister steel discuss forward similar guide experience score apple bought led pitch coat mass card band rope slip win dream evening condition feed tool total basic smell valley nor double seat arrive master track parent shore division sheet substance favor connect post spend chord fat glad original share station dad bread charge proper bar offer segment slave duck instant market degree populate chick dear enemy reply drink occur support speech nature range steam motion path liquid log meant quotient teeth shell neck\""
   ]
  },
  {
   "cell_type": "markdown",
   "metadata": {},
   "source": [
    "Sestavite vrednost `slovar : string list`, ki vsebuje vse besede iz slovarja, pretvorjene v velike tiskane črke."
   ]
  },
  {
   "cell_type": "code",
   "execution_count": null,
   "metadata": {
    "vscode": {
     "languageId": "ocaml"
    }
   },
   "outputs": [],
   "source": [
    "let slovar = \n",
    "  let ustvari_slovar besedilo = \n",
    "    let velike_tiskane = String.uppercase_ascii besedilo in\n",
    "    String.split_on_char ' ' velike_tiskane\n",
    "  in ustvari_slovar besede"
   ]
  },
  {
   "cell_type": "code",
   "execution_count": 63,
   "metadata": {
    "vscode": {
     "languageId": "ocaml"
    }
   },
   "outputs": [
    {
     "data": {
      "text/plain": [
       "val primer_sifriranje_7 : string list =\n",
       "  [\"THE\"; \"OF\"; \"TO\"; \"AND\"; \"A\"; \"IN\"; \"IS\"; \"IT\"; \"YOU\"; \"THAT\"; \"HE\";\n",
       "   \"WAS\"; \"FOR\"; \"ON\"; \"ARE\"; \"WITH\"; \"AS\"; \"I\"; \"HIS\"; \"THEY\"; \"BE\"; \"AT\";\n",
       "   \"ONE\"; \"HAVE\"; \"THIS\"; \"FROM\"; \"OR\"; \"HAD\"; \"BY\"; \"WORD\"; \"BUT\"; \"WHAT\";\n",
       "   \"SOME\"; \"WE\"; \"CAN\"; \"OUT\"; \"OTHER\"; \"WERE\"; \"ALL\"; \"THERE\"; \"WHEN\"; \"UP\"]\n"
      ]
     },
     "execution_count": 63,
     "metadata": {},
     "output_type": "execute_result"
    }
   ],
   "source": [
    "let primer_sifriranje_7 = take 42 slovar"
   ]
  },
  {
   "cell_type": "code",
   "execution_count": 64,
   "metadata": {
    "vscode": {
     "languageId": "ocaml"
    }
   },
   "outputs": [
    {
     "data": {
      "text/plain": [
       "val primer_sifriranje_8 : string = \"MEASURE\"\n"
      ]
     },
     "execution_count": 64,
     "metadata": {},
     "output_type": "execute_result"
    }
   ],
   "source": [
    "let primer_sifriranje_8 = List.nth slovar 321"
   ]
  },
  {
   "cell_type": "markdown",
   "metadata": {},
   "source": [
    "### Razširjanje ključa s črko"
   ]
  },
  {
   "cell_type": "markdown",
   "metadata": {},
   "source": [
    "Med ugibanjem seveda ne bomo poznali celotnega ključa. V tem primeru bomo za neznane črke uporabili znak `_`. Na primer, če bi vedeli, da je črka `A` v besedilu šifrirana kot `X`, črka `C` pa kot `Y`, bi ključ zapisali kot `\"X_Y_______________________\"`.\n",
    "\n",
    "Napišite funkcijo `dodaj_zamenjavo : string -> char * char -> string option`, ki sprejme ključ ter ga poskusi razširiti z zamenjavo dane črke. Funkcija naj vrne `None`, če razširitev vodi v ključ, ki ni bijektiven (torej če ima črka že dodeljeno drugo zamenjavo ali če smo isto zamenjavo dodelili dvema različnima črkama)."
   ]
  },
  {
   "cell_type": "code",
   "execution_count": null,
   "metadata": {
    "vscode": {
     "languageId": "ocaml"
    }
   },
   "outputs": [],
   "source": [
    "let dodaj_zamenjavo kljuc (znak, sifra_znaka) = \n",
    "  let pozicija = indeks znak in\n",
    "  let dolzina = String.length kljuc in\n",
    "  let vstavi_crko z s_z = match z with\n",
    "    | '_' -> if String.contains kljuc s_z then None else Some ( (String.sub kljuc 0 pozicija) ^ (Char.escaped sifra_znaka) ^ (String.sub kljuc (pozicija + 1) (dolzina - pozicija - 1)) )\n",
    "    | _ -> if z = s_z then Some kljuc else None\n",
    "  in vstavi_crko (String.get kljuc pozicija) sifra_znaka"
   ]
  },
  {
   "cell_type": "code",
   "execution_count": 66,
   "metadata": {
    "vscode": {
     "languageId": "ocaml"
    }
   },
   "outputs": [
    {
     "data": {
      "text/plain": [
       "val primer_sifriranje_9 : string option = Some \"ABX_E\"\n"
      ]
     },
     "execution_count": 66,
     "metadata": {},
     "output_type": "execute_result"
    }
   ],
   "source": [
    "let primer_sifriranje_9 = dodaj_zamenjavo \"AB__E\" ('C', 'X')"
   ]
  },
  {
   "cell_type": "code",
   "execution_count": 67,
   "metadata": {
    "vscode": {
     "languageId": "ocaml"
    }
   },
   "outputs": [
    {
     "data": {
      "text/plain": [
       "val primer_sifriranje_10 : string option = Some \"ABX_E\"\n"
      ]
     },
     "execution_count": 67,
     "metadata": {},
     "output_type": "execute_result"
    }
   ],
   "source": [
    "let primer_sifriranje_10 = dodaj_zamenjavo \"ABX_E\" ('C', 'X')"
   ]
  },
  {
   "cell_type": "code",
   "execution_count": 68,
   "metadata": {
    "vscode": {
     "languageId": "ocaml"
    }
   },
   "outputs": [
    {
     "data": {
      "text/plain": [
       "val primer_sifriranje_11 : string option = None\n"
      ]
     },
     "execution_count": 68,
     "metadata": {},
     "output_type": "execute_result"
    }
   ],
   "source": [
    "let primer_sifriranje_11 = dodaj_zamenjavo \"ABY_E\" ('C', 'E')"
   ]
  },
  {
   "cell_type": "markdown",
   "metadata": {},
   "source": [
    "### Razširjanje ključa z besedo"
   ]
  },
  {
   "cell_type": "markdown",
   "metadata": {
    "vscode": {
     "languageId": "ocaml"
    }
   },
   "source": [
    "S pomočjo funkcije `dodaj_zamenjavo` sestavite še funkcijo `dodaj_zamenjave : string -> string * string -> string option`, ki ključ razširi z zamenjavami, ki prvo besedo preslikajo v drugo."
   ]
  },
  {
   "cell_type": "code",
   "execution_count": null,
   "metadata": {
    "vscode": {
     "languageId": "ocaml"
    }
   },
   "outputs": [],
   "source": [
    "let razparkiraj_str_opt str_opt = match str_opt with\n",
    "  | None -> \"\"\n",
    "  | Some v -> v\n",
    "\n",
    "let dodaj_zamenjave kljuc (beseda, sifra_besede) = \n",
    "  let seznam_znakov = List.init (String.length beseda) (String.get beseda) in\n",
    "  let rec vstavi_crko sez_bes k st = match sez_bes with\n",
    "    | [] -> Some k\n",
    "    | h :: t -> let opt_str = dodaj_zamenjavo k ( h, String.get sifra_besede st ) in (if opt_str = None then None else vstavi_crko t (razparkiraj_str_opt opt_str) (st + 1)) \n",
    "  in vstavi_crko seznam_znakov kljuc 0"
   ]
  },
  {
   "cell_type": "code",
   "execution_count": 70,
   "metadata": {
    "vscode": {
     "languageId": "ocaml"
    }
   },
   "outputs": [
    {
     "data": {
      "text/plain": [
       "val primer_sifriranje_12 : string option = Some \"____U__K___N__J___________\"\n"
      ]
     },
     "execution_count": 70,
     "metadata": {},
     "output_type": "execute_result"
    }
   ],
   "source": [
    "let primer_sifriranje_12 = dodaj_zamenjave \"__________________________\" (\"HELLO\", \"KUNNJ\")"
   ]
  },
  {
   "cell_type": "code",
   "execution_count": 71,
   "metadata": {
    "vscode": {
     "languageId": "ocaml"
    }
   },
   "outputs": [
    {
     "data": {
      "text/plain": [
       "val primer_sifriranje_13 : string option = Some \"ABCDU__K___N__J___________\"\n"
      ]
     },
     "execution_count": 71,
     "metadata": {},
     "output_type": "execute_result"
    }
   ],
   "source": [
    "let primer_sifriranje_13 = dodaj_zamenjave \"ABCDU_____________________\" (\"HELLO\", \"KUNNJ\")"
   ]
  },
  {
   "cell_type": "code",
   "execution_count": 72,
   "metadata": {
    "vscode": {
     "languageId": "ocaml"
    }
   },
   "outputs": [
    {
     "data": {
      "text/plain": [
       "val primer_sifriranje_14 : string option = None\n"
      ]
     },
     "execution_count": 72,
     "metadata": {},
     "output_type": "execute_result"
    }
   ],
   "source": [
    "let primer_sifriranje_14 = dodaj_zamenjave \"ABCDE_____________________\" (\"HELLO\", \"KUNNJ\")"
   ]
  },
  {
   "cell_type": "markdown",
   "metadata": {},
   "source": [
    "### Vse možne razširitve"
   ]
  },
  {
   "cell_type": "markdown",
   "metadata": {},
   "source": [
    "Sestavite funkcijo `mozne_razsiritve : string -> string -> string list -> string list`, ki vzame ključ, šifrirano besedo ter slovar vseh možnih besed, vrne pa seznam vseh možnih razširitev ključa, ki šifrirano besedo slikajo v eno od besed v slovarju."
   ]
  },
  {
   "cell_type": "code",
   "execution_count": null,
   "metadata": {
    "vscode": {
     "languageId": "ocaml"
    }
   },
   "outputs": [],
   "source": [
    "let mozne_razsiritve kljuc beseda podan_slovar =\n",
    "  let mozne_sif_dol = List.filter (fun x -> String.length x = String.length beseda) podan_slovar in\n",
    "  let rec mozne_sif_crke k sez_sif ustrezen_sez_k = match sez_sif with\n",
    "    | [] -> List.rev ustrezen_sez_k\n",
    "    | h :: t -> let str_opt = dodaj_zamenjave k (beseda, h) in if str_opt = None then mozne_sif_crke k t ustrezen_sez_k else mozne_sif_crke k t ( (razparkiraj_str_opt str_opt) :: ustrezen_sez_k ) \n",
    "  in mozne_sif_crke kljuc mozne_sif_dol [] "
   ]
  },
  {
   "cell_type": "code",
   "execution_count": 74,
   "metadata": {
    "vscode": {
     "languageId": "ocaml"
    }
   },
   "outputs": [
    {
     "data": {
      "text/plain": [
       "val primer_sifriranje_15 : (string * string) list =\n",
       "  [(\"_________YC__R______A_____\", \"CARRY\");\n",
       "   (\"_________DS__O______T_____\", \"STOOD\");\n",
       "   (\"_________NG__E______R_____\", \"GREEN\");\n",
       "   (\"_________LW__E______H_____\", \"WHEEL\");\n",
       "   (\"_________PS__E______L_____\", \"SLEEP\");\n",
       "   (\"_________YH__P______A_____\", \"HAPPY\");\n",
       "   (\"_________RF__O______L_____\", \"FLOOR\");\n",
       "   (\"_________DS__E______P_____\", \"SPEED\");\n",
       "   (\"_________DB__O______L_____\", \"BLOOD\");\n",
       "   (\"_________YH__R______U_____\", \"HURRY\");\n",
       "   (\"_________LS__E______T_____\", \"STEEL\");\n",
       "   (\"_________TS__E______H_____\", \"SHEET\")]\n"
      ]
     },
     "execution_count": 74,
     "metadata": {},
     "output_type": "execute_result"
    }
   ],
   "source": [
    "let primer_sifriranje_15 =\n",
    "  slovar\n",
    "  |> mozne_razsiritve (String.make 26 '_') \"KUNNJ\"\n",
    "  |> List.map (fun kljuc -> (kljuc, sifriraj kljuc \"KUNNJ\"))"
   ]
  },
  {
   "cell_type": "markdown",
   "metadata": {},
   "source": [
    "### Odšifriranje"
   ]
  },
  {
   "cell_type": "markdown",
   "metadata": {
    "vscode": {
     "languageId": "ocaml"
    }
   },
   "source": [
    "Napišite funkcijo `odsifriraj : string -> string option`, ki sprejme šifrirano besedilo in s pomočjo slovarja besed ugane odšifrirano besedilo. Funkcija naj vrne `None`, če ni mogoče najti nobenega ustreznega ključa."
   ]
  },
  {
   "cell_type": "code",
   "execution_count": null,
   "metadata": {
    "vscode": {
     "languageId": "ocaml"
    }
   },
   "outputs": [],
   "source": [
    "let odsifriraj besedilo = \n",
    "  let sez_besed = String.split_on_char ' ' besedilo in\n",
    "  let sez_bes_po_dol = List.sort (fun x y -> compare (String.length y) (String.length x)) (List.sort_uniq compare sez_besed) in\n",
    "(* dobimo seznam vseh besed v besedilu razvrscene po dolzini - padajoce, izloci vse besede, ki se ponovijo veckrat *)\n",
    "\n",
    "  let rec poisci_mozne_razs sez_klj beseda novi_klj = match sez_klj with\n",
    "    | [] -> if novi_klj = [] then [] else List.flatten novi_klj\n",
    "    | h :: t -> poisci_mozne_razs t beseda ((mozne_razsiritve h beseda slovar) :: novi_klj) \n",
    "  in\n",
    "(* funkcija dobi seznam nekih kljucev in poisce mozne razsiritve za neko besedo na ze obstojecih kljucih *)\n",
    "\n",
    "  let rec mozni_kljuci sez_bes sez_kljucev = match sez_bes with\n",
    "    | [] -> sez_kljucev\n",
    "    | h :: t -> let ustrezni_k = (poisci_mozne_razs sez_kljucev h []) in if ustrezni_k = [] then [] else mozni_kljuci t ustrezni_k \n",
    "  in \n",
    "(* funkcija gre po vseh besedah in ustvari seznam kljucev, ki ustrezajo vsem besedam *)\n",
    "\n",
    "  let besedilo_odsifriraj sez_klj bes= match sez_klj with\n",
    "    | [] ->  None \n",
    "    | h :: t -> Some (sifriraj h bes)\n",
    "(* funkcija odsifrira dano besedilo po enem izmed ustreznih kljucev in nam to vrne v obliki option string *)\n",
    "\n",
    "  in besedilo_odsifriraj (mozni_kljuci sez_bes_po_dol [String.make 26 '_']) besedilo"
   ]
  },
  {
   "cell_type": "code",
   "execution_count": 77,
   "metadata": {
    "vscode": {
     "languageId": "ocaml"
    }
   },
   "outputs": [
    {
     "data": {
      "text/plain": [
       "val primer_sifriranje_16 : string = \"VKBO BO T AUSD KTSQ MSJHNUF\"\n"
      ]
     },
     "execution_count": 77,
     "metadata": {},
     "output_type": "execute_result"
    }
   ],
   "source": [
    "let primer_sifriranje_16 = sifriraj quick_brown_fox \"THIS IS A VERY HARD PROBLEM\""
   ]
  },
  {
   "cell_type": "code",
   "execution_count": 78,
   "metadata": {
    "vscode": {
     "languageId": "ocaml"
    }
   },
   "outputs": [
    {
     "data": {
      "text/plain": [
       "val primer_sifriranje_17 : string option = Some \"THIS IS A VERY HARD PROBLEM\"\n"
      ]
     },
     "execution_count": 78,
     "metadata": {},
     "output_type": "execute_result"
    }
   ],
   "source": [
    "let primer_sifriranje_17 = odsifriraj \"VKBO BO T AUSD KTSQ MSJHNUF\""
   ]
  }
 ],
 "metadata": {
  "kernelspec": {
   "display_name": "OCaml 4.14",
   "language": "OCaml",
   "name": "ocaml-jupyter"
  },
  "language_info": {
   "codemirror_mode": "text/x-ocaml",
   "file_extension": ".ml",
   "mimetype": "text/x-ocaml",
   "name": "OCaml",
   "nbconverter_exporter": null,
   "pygments_lexer": "OCaml",
   "version": "4.14.2"
  }
 },
 "nbformat": 4,
 "nbformat_minor": 2
}
